{
 "cells": [
  {
   "cell_type": "code",
   "id": "initial_id",
   "metadata": {
    "collapsed": true,
    "ExecuteTime": {
     "end_time": "2024-08-05T06:08:30.448315Z",
     "start_time": "2024-08-05T06:08:29.251143Z"
    }
   },
   "source": [
    "import numpy as np\n",
    "import torch\n",
    "from torch.utils import data\n",
    "from d2l import torch as d2l\n",
    "\n",
    "true_w = torch.tensor([2, -3.4])\n",
    "true_b = 4.2\n",
    "features, labels = d2l.synthetic_data(true_w, true_b, 1000)"
   ],
   "outputs": [],
   "execution_count": 1
  },
  {
   "metadata": {
    "ExecuteTime": {
     "end_time": "2024-08-05T06:08:40.968407Z",
     "start_time": "2024-08-05T06:08:40.964327Z"
    }
   },
   "cell_type": "code",
   "source": [
    "def load_array(data_arrays, batch_size, is_train=True):  #@save\n",
    "    \"\"\"构造一个PyTorch数据迭代器\"\"\"\n",
    "    dataset = data.TensorDataset(*data_arrays)\n",
    "    return data.DataLoader(dataset, batch_size, shuffle=is_train)\n",
    "\n",
    "batch_size = 10\n",
    "data_iter = load_array((features, labels), batch_size)"
   ],
   "id": "f8714d17f76cf987",
   "outputs": [],
   "execution_count": 2
  },
  {
   "metadata": {
    "ExecuteTime": {
     "end_time": "2024-08-05T06:13:33.738555Z",
     "start_time": "2024-08-05T06:13:33.730535Z"
    }
   },
   "cell_type": "code",
   "source": "next(iter(data_iter))",
   "id": "7487ef865c4b3ce5",
   "outputs": [
    {
     "data": {
      "text/plain": [
       "[tensor([[-1.1455e+00, -3.1440e-01],\n",
       "         [-8.3756e-01,  1.1176e+00],\n",
       "         [-1.1291e+00, -1.9585e+00],\n",
       "         [-1.2938e+00, -1.4421e+00],\n",
       "         [-5.6697e-01, -2.4040e-01],\n",
       "         [-3.9582e-01,  3.5603e-01],\n",
       "         [ 2.3211e-01, -1.1521e+00],\n",
       "         [ 7.2597e-01,  1.6181e-01],\n",
       "         [ 9.9252e-04,  1.9350e+00],\n",
       "         [-8.4096e-01,  9.3829e-01]]),\n",
       " tensor([[ 2.9777],\n",
       "         [-1.2656],\n",
       "         [ 8.6025],\n",
       "         [ 6.5266],\n",
       "         [ 3.8799],\n",
       "         [ 2.2061],\n",
       "         [ 8.5827],\n",
       "         [ 5.0945],\n",
       "         [-2.3684],\n",
       "         [-0.6626]])]"
      ]
     },
     "execution_count": 5,
     "metadata": {},
     "output_type": "execute_result"
    }
   ],
   "execution_count": 5
  },
  {
   "metadata": {
    "ExecuteTime": {
     "end_time": "2024-08-05T06:15:15.119751Z",
     "start_time": "2024-08-05T06:15:15.116194Z"
    }
   },
   "cell_type": "code",
   "source": [
    "from torch import nn\n",
    "\n",
    "net = nn.Sequential(nn.Linear(2, 1))"
   ],
   "id": "3cbcf45e21053346",
   "outputs": [],
   "execution_count": 7
  },
  {
   "metadata": {
    "ExecuteTime": {
     "end_time": "2024-08-05T06:18:04.706708Z",
     "start_time": "2024-08-05T06:18:04.701717Z"
    }
   },
   "cell_type": "code",
   "source": [
    "net[0].weight.data.normal_(0, 0.01)\n",
    "net[0].bias.data.fill_(0)"
   ],
   "id": "dc3d6f384dcf2f3d",
   "outputs": [
    {
     "data": {
      "text/plain": [
       "tensor([0.])"
      ]
     },
     "execution_count": 15,
     "metadata": {},
     "output_type": "execute_result"
    }
   ],
   "execution_count": 15
  },
  {
   "metadata": {
    "ExecuteTime": {
     "end_time": "2024-08-05T06:18:05.177184Z",
     "start_time": "2024-08-05T06:18:05.173895Z"
    }
   },
   "cell_type": "code",
   "source": "loss = nn.MSELoss()",
   "id": "256f8aa16687d5d",
   "outputs": [],
   "execution_count": 16
  },
  {
   "metadata": {
    "ExecuteTime": {
     "end_time": "2024-08-05T06:18:05.475171Z",
     "start_time": "2024-08-05T06:18:05.470976Z"
    }
   },
   "cell_type": "code",
   "source": "trainer = torch.optim.SGD(net.parameters(), lr=0.03)",
   "id": "7af5c3b342bb056d",
   "outputs": [],
   "execution_count": 17
  },
  {
   "metadata": {
    "ExecuteTime": {
     "end_time": "2024-08-05T06:18:05.907931Z",
     "start_time": "2024-08-05T06:18:05.836167Z"
    }
   },
   "cell_type": "code",
   "source": [
    "num_epochs = 3\n",
    "for epoch in range(num_epochs):\n",
    "    for X, y in data_iter:\n",
    "        l = loss(net(X), y)\n",
    "        trainer.zero_grad()\n",
    "        l.backward()\n",
    "        trainer.step()\n",
    "    l = loss(net(features), labels)\n",
    "    print(f'Epoch {epoch+1}, loss: {l:f}')"
   ],
   "id": "c8c5c240d272b77a",
   "outputs": [
    {
     "name": "stdout",
     "output_type": "stream",
     "text": [
      "Epoch 1, loss: 0.000209\n",
      "Epoch 2, loss: 0.000101\n",
      "Epoch 3, loss: 0.000100\n"
     ]
    }
   ],
   "execution_count": 18
  },
  {
   "metadata": {
    "ExecuteTime": {
     "end_time": "2024-08-05T06:18:24.412847Z",
     "start_time": "2024-08-05T06:18:24.407076Z"
    }
   },
   "cell_type": "code",
   "source": [
    "w = net[0].weight.data\n",
    "print('w的估计误差：', true_w - w.reshape(true_w.shape))\n",
    "b = net[0].bias.data\n",
    "print('b的估计误差：', true_b - b)"
   ],
   "id": "a73856d8f6c78ed6",
   "outputs": [
    {
     "name": "stdout",
     "output_type": "stream",
     "text": [
      "w的估计误差： tensor([ 0.0005, -0.0001])\n",
      "b的估计误差： tensor([0.0006])\n"
     ]
    }
   ],
   "execution_count": 19
  },
  {
   "metadata": {},
   "cell_type": "markdown",
   "source": "# Homework",
   "id": "a04c6881772f50fb"
  },
  {
   "metadata": {},
   "cell_type": "markdown",
   "source": "2. 查看深度学习框架文档，它们提供了哪些损失函数和初始化方法？用Huber损失代替原损失，即\n",
   "id": "db1d6709cd0a5941"
  },
  {
   "metadata": {
    "ExecuteTime": {
     "end_time": "2024-08-05T06:20:33.988752Z",
     "start_time": "2024-08-05T06:20:33.916832Z"
    }
   },
   "cell_type": "code",
   "source": [
    "loss = nn.HuberLoss()\n",
    "trainer = torch.optim.SGD(net.parameters(), lr=0.03)\n",
    "num_epochs = 3\n",
    "for epoch in range(num_epochs):\n",
    "    for X, y in data_iter:\n",
    "        l = loss(net(X), y)\n",
    "        trainer.zero_grad()\n",
    "        l.backward()\n",
    "        trainer.step()\n",
    "    l = loss(net(features), labels)\n",
    "    print(f'Epoch {epoch+1}, loss: {l:f}')"
   ],
   "id": "bd2ad61bcacd5241",
   "outputs": [
    {
     "name": "stdout",
     "output_type": "stream",
     "text": [
      "Epoch 1, loss: 0.000050\n",
      "Epoch 2, loss: 0.000050\n",
      "Epoch 3, loss: 0.000050\n"
     ]
    }
   ],
   "execution_count": 20
  },
  {
   "metadata": {
    "ExecuteTime": {
     "end_time": "2024-08-05T06:21:15.187407Z",
     "start_time": "2024-08-05T06:21:15.182464Z"
    }
   },
   "cell_type": "code",
   "source": "help(torch.nn)",
   "id": "850019b2772dd085",
   "outputs": [
    {
     "name": "stdout",
     "output_type": "stream",
     "text": [
      "Help on package torch.nn in torch:\n",
      "\n",
      "NAME\n",
      "    torch.nn\n",
      "\n",
      "PACKAGE CONTENTS\n",
      "    _reduction\n",
      "    backends (package)\n",
      "    common_types\n",
      "    cpp\n",
      "    functional\n",
      "    grad\n",
      "    init\n",
      "    intrinsic (package)\n",
      "    modules (package)\n",
      "    parallel (package)\n",
      "    parameter\n",
      "    qat (package)\n",
      "    quantizable (package)\n",
      "    quantized (package)\n",
      "    utils (package)\n",
      "\n",
      "FUNCTIONS\n",
      "    factory_kwargs(kwargs)\n",
      "        Given kwargs, returns a canonicalized dict of factory kwargs that can be directly passed\n",
      "        to factory functions like torch.empty, or errors if unrecognized kwargs are present.\n",
      "        \n",
      "        This function makes it simple to write code like this::\n",
      "        \n",
      "            class MyModule(nn.Module):\n",
      "                def __init__(self, **kwargs):\n",
      "                    factory_kwargs = torch.nn.factory_kwargs(kwargs)\n",
      "                    self.weight = Parameter(torch.empty(10, **factory_kwargs))\n",
      "        \n",
      "        Why should you use this function instead of just passing `kwargs` along directly?\n",
      "        \n",
      "        1. This function does error validation, so if there are unexpected kwargs we will\n",
      "        immediately report an error, instead of deferring it to the factory call\n",
      "        2. This function supports a special `factory_kwargs` argument, which can be used to\n",
      "        explicitly specify a kwarg to be used for factory functions, in the event one of the\n",
      "        factory kwargs conflicts with an already existing argument in the signature (e.g.\n",
      "        in the signature ``def f(dtype, **kwargs)``, you can specify ``dtype`` for factory\n",
      "        functions, as distinct from the dtype argument, by saying\n",
      "        ``f(dtype1, factory_kwargs={\"dtype\": dtype2})``)\n",
      "\n",
      "FILE\n",
      "    /home/lixiang/anaconda3/envs/d2l/lib/python3.8/site-packages/torch/nn/__init__.py\n",
      "\n",
      "\n"
     ]
    }
   ],
   "execution_count": 22
  },
  {
   "metadata": {},
   "cell_type": "code",
   "outputs": [],
   "execution_count": null,
   "source": "",
   "id": "15813f5dc9018881"
  }
 ],
 "metadata": {
  "kernelspec": {
   "display_name": "Python 3",
   "language": "python",
   "name": "python3"
  },
  "language_info": {
   "codemirror_mode": {
    "name": "ipython",
    "version": 2
   },
   "file_extension": ".py",
   "mimetype": "text/x-python",
   "name": "python",
   "nbconvert_exporter": "python",
   "pygments_lexer": "ipython2",
   "version": "2.7.6"
  }
 },
 "nbformat": 4,
 "nbformat_minor": 5
}
